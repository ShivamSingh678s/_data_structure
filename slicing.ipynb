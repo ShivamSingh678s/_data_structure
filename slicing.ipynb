{
  "nbformat": 4,
  "nbformat_minor": 0,
  "metadata": {
    "colab": {
      "provenance": []
    },
    "kernelspec": {
      "name": "python3",
      "display_name": "Python 3"
    },
    "language_info": {
      "name": "python"
    }
  },
  "cells": [
    {
      "cell_type": "code",
      "execution_count": 2,
      "metadata": {
        "colab": {
          "base_uri": "https://localhost:8080/"
        },
        "id": "3CjOQpxH4Opy",
        "outputId": "181ee74f-200e-40d6-cd3a-825a41aebdac"
      },
      "outputs": [
        {
          "output_type": "stream",
          "name": "stdout",
          "text": [
            "Hello\n"
          ]
        }
      ],
      "source": [
        "s = \"Hello, World!\"\n",
        "substring = s[0:5]\n",
        "print(substring)\n"
      ]
    },
    {
      "cell_type": "code",
      "source": [
        "s = \"Hello, World!\"\n",
        "sn= s[:5]\n",
        "sl= s[7:]\n",
        "print(sn)\n",
        "print(sl)\n"
      ],
      "metadata": {
        "colab": {
          "base_uri": "https://localhost:8080/"
        },
        "id": "iy1U-YQb468w",
        "outputId": "0c1eab06-61fa-4011-ee0c-39a7a631c702"
      },
      "execution_count": 4,
      "outputs": [
        {
          "output_type": "stream",
          "name": "stdout",
          "text": [
            "Hello\n",
            "World!\n"
          ]
        }
      ]
    },
    {
      "cell_type": "code",
      "source": [
        "s = \"Hello, World!\"\n",
        "l = s[-4]\n",
        "print(l)"
      ],
      "metadata": {
        "colab": {
          "base_uri": "https://localhost:8080/"
        },
        "id": "5MMzigME5XPd",
        "outputId": "530c5427-694b-45e0-f8b5-87e4be6403f2"
      },
      "execution_count": 7,
      "outputs": [
        {
          "output_type": "stream",
          "name": "stdout",
          "text": [
            "r\n"
          ]
        }
      ]
    },
    {
      "cell_type": "code",
      "source": [
        "s = \"Hello, World!\"\n",
        "custom_slice = s[2:9:2]\n",
        "print(custom_slice)\n"
      ],
      "metadata": {
        "colab": {
          "base_uri": "https://localhost:8080/"
        },
        "id": "gJmC7Q405mSb",
        "outputId": "f3256306-be40-4ca2-85a5-3f9b5a996689"
      },
      "execution_count": 8,
      "outputs": [
        {
          "output_type": "stream",
          "name": "stdout",
          "text": [
            "lo o\n"
          ]
        }
      ]
    }
  ]
}