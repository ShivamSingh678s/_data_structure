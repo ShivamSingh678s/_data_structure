{
  "nbformat": 4,
  "nbformat_minor": 0,
  "metadata": {
    "colab": {
      "provenance": []
    },
    "kernelspec": {
      "name": "python3",
      "display_name": "Python 3"
    },
    "language_info": {
      "name": "python"
    }
  },
  "cells": [
    {
      "cell_type": "code",
      "source": [
        "#list\n",
        "my_list = [1, 2, 3, 4]\n",
        "print(my_list)\n",
        "\n",
        "# Modifying the list\n",
        "my_list[0] = 10\n",
        "print(my_list)\n",
        "\n",
        "# Adding an element\n",
        "my_list.append(5)\n",
        "print(my_list)\n",
        "\n",
        "# Removing an element\n",
        "my_list.remove(3)\n",
        "print(my_list)\n"
      ],
      "metadata": {
        "id": "RHAr_oVn0YQw",
        "colab": {
          "base_uri": "https://localhost:8080/"
        },
        "outputId": "a9723ae1-d781-474f-a638-6a4a1c4a3438"
      },
      "execution_count": 3,
      "outputs": [
        {
          "output_type": "stream",
          "name": "stdout",
          "text": [
            "[1, 2, 3, 4]\n",
            "[10, 2, 3, 4]\n",
            "[10, 2, 3, 4, 5]\n",
            "[10, 2, 4, 5]\n"
          ]
        }
      ]
    },
    {
      "cell_type": "code",
      "source": [
        "#tuple\n",
        "my_tuple = (1, 2, 3, 4)\n",
        "print(my_tuple)\n",
        "\n",
        "# Tuples support indexing and slicing\n",
        "print(my_tuple[0])\n",
        "print(my_tuple[1:3])\n",
        "\n",
        "# Counting and finding elements\n",
        "print(my_tuple.count(2))\n",
        "print( my_tuple.index(3))\n"
      ],
      "metadata": {
        "colab": {
          "base_uri": "https://localhost:8080/"
        },
        "id": "GTQuDGNmD25e",
        "outputId": "c696fed2-0bf5-4eef-d10c-f7e737bf4099"
      },
      "execution_count": 4,
      "outputs": [
        {
          "output_type": "stream",
          "name": "stdout",
          "text": [
            "(1, 2, 3, 4)\n",
            "1\n",
            "(2, 3)\n",
            "1\n",
            "2\n"
          ]
        }
      ]
    }
  ]
}