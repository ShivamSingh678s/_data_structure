{
  "nbformat": 4,
  "nbformat_minor": 0,
  "metadata": {
    "colab": {
      "provenance": []
    },
    "kernelspec": {
      "name": "python3",
      "display_name": "Python 3"
    },
    "language_info": {
      "name": "python"
    }
  },
  "cells": [
    {
      "cell_type": "code",
      "source": [
        "#indexing\n",
        "my_list = [10, 20, 30, 40, 50]\n",
        "a = my_list[0]\n",
        "b = my_list[2]\n",
        "\n",
        "print(a)\n",
        "print(b)\n"
      ],
      "metadata": {
        "colab": {
          "base_uri": "https://localhost:8080/"
        },
        "id": "_nHJd1rj6v7v",
        "outputId": "7e4ce0df-a4f8-4faa-abe6-8de6a1951d6a"
      },
      "execution_count": 2,
      "outputs": [
        {
          "output_type": "stream",
          "name": "stdout",
          "text": [
            "10\n",
            "30\n"
          ]
        }
      ]
    },
    {
      "cell_type": "code",
      "source": [
        "#slicing\n",
        "my_list = [10, 20, 30, 40, 50]\n",
        "a = my_list[0:5]\n",
        "b = my_list[2:-2]\n",
        "\n",
        "print(a)\n",
        "print(b)\n"
      ],
      "metadata": {
        "colab": {
          "base_uri": "https://localhost:8080/"
        },
        "id": "AqcanLUI-Q1N",
        "outputId": "318474eb-837f-4d83-c7ef-7ec56d2c1fef"
      },
      "execution_count": 4,
      "outputs": [
        {
          "output_type": "stream",
          "name": "stdout",
          "text": [
            "[10, 20, 30, 40, 50]\n",
            "[30]\n"
          ]
        }
      ]
    },
    {
      "cell_type": "code",
      "source": [
        "#modify\n",
        "my_list = [10, 20, 30, 40, 50]\n",
        "my_list[1] = 25\n",
        "print(my_list)\n"
      ],
      "metadata": {
        "colab": {
          "base_uri": "https://localhost:8080/"
        },
        "id": "3vdpKvXiAeue",
        "outputId": "b11ee3d5-4656-433d-93b2-897574123197"
      },
      "execution_count": 6,
      "outputs": [
        {
          "output_type": "stream",
          "name": "stdout",
          "text": [
            "[10, 25, 30, 40, 50]\n"
          ]
        }
      ]
    },
    {
      "cell_type": "code",
      "source": [
        "my_list = [10, 20, 30, 40, 50]\n",
        "my_list[1:3] = [21, 31]\n",
        "print(my_list)\n"
      ],
      "metadata": {
        "colab": {
          "base_uri": "https://localhost:8080/"
        },
        "id": "VexiKuotAnkq",
        "outputId": "d9aba183-4221-406d-cf85-b6e10629fca1"
      },
      "execution_count": 8,
      "outputs": [
        {
          "output_type": "stream",
          "name": "stdout",
          "text": [
            "[10, 21, 31, 40, 50]\n"
          ]
        }
      ]
    },
    {
      "cell_type": "code",
      "source": [
        "#delete\n",
        "my_list = [10, 20, 30, 40, 50]\n",
        "del my_list[2]\n",
        "print(my_list)\n"
      ],
      "metadata": {
        "colab": {
          "base_uri": "https://localhost:8080/"
        },
        "id": "mOgfdAhwBFtY",
        "outputId": "66de415a-79f5-46f9-ff4d-e6779866cb20"
      },
      "execution_count": 10,
      "outputs": [
        {
          "output_type": "stream",
          "name": "stdout",
          "text": [
            "[10, 20, 40, 50]\n"
          ]
        }
      ]
    },
    {
      "cell_type": "code",
      "source": [
        "#remove\n",
        "my_list = [10, 20, 30, 40, 50]\n",
        "my_list.remove(30)\n",
        "print(my_list)\n"
      ],
      "metadata": {
        "colab": {
          "base_uri": "https://localhost:8080/"
        },
        "id": "ySHdvkSVBKM1",
        "outputId": "508179e2-3880-4d1d-e044-29963cdc7499"
      },
      "execution_count": 12,
      "outputs": [
        {
          "output_type": "stream",
          "name": "stdout",
          "text": [
            "[10, 20, 40, 50]\n"
          ]
        }
      ]
    },
    {
      "cell_type": "code",
      "source": [
        "#pop\n",
        "my_list = [10, 20, 30, 40, 50]\n",
        "last_element = my_list.pop()\n",
        "print(last_element)\n",
        "print(my_list)\n"
      ],
      "metadata": {
        "colab": {
          "base_uri": "https://localhost:8080/"
        },
        "id": "9d6zpjINBTVW",
        "outputId": "d30e1525-1eff-402e-ffba-ef71c9357594"
      },
      "execution_count": 13,
      "outputs": [
        {
          "output_type": "stream",
          "name": "stdout",
          "text": [
            "50\n",
            "[10, 20, 30, 40]\n"
          ]
        }
      ]
    }
  ]
}