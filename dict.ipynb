{
  "nbformat": 4,
  "nbformat_minor": 0,
  "metadata": {
    "colab": {
      "provenance": []
    },
    "kernelspec": {
      "name": "python3",
      "display_name": "Python 3"
    },
    "language_info": {
      "name": "python"
    }
  },
  "cells": [
    {
      "cell_type": "code",
      "execution_count": 6,
      "metadata": {
        "colab": {
          "base_uri": "https://localhost:8080/"
        },
        "id": "yNHhFYC3Kxjd",
        "outputId": "9e2886b4-b7ef-45a4-8294-f71abc613e92"
      },
      "outputs": [
        {
          "output_type": "stream",
          "name": "stdout",
          "text": [
            "{'name': 'Alice', 'age': 30, 'city': 'New York'}\n",
            "{'name': 'Alice', 'age': 30, 'city': 'New York', 'country': 'USA', 'occupation': 'Engineer'}\n",
            "{'name': 'Alice', 'age': 31, 'city': 'Los Angeles', 'country': 'USA', 'occupation': 'Engineer'}\n"
          ]
        }
      ],
      "source": [
        "\n",
        "my_dict = {}\n",
        "\n",
        "# Adding items\n",
        "my_dict['name'] = 'Alice'\n",
        "my_dict['age'] = 30\n",
        "my_dict['city'] = 'New York'\n",
        "print(my_dict)\n",
        "\n",
        "# Using update\n",
        "my_dict.update({'country': 'USA', 'occupation': 'Engineer'})\n",
        "print(my_dict)\n",
        "\n",
        "# Modifying items\n",
        "my_dict['age'] = 31\n",
        "my_dict['city'] = 'Los Angeles'\n",
        "print(my_dict)\n",
        "\n"
      ]
    },
    {
      "cell_type": "code",
      "source": [
        "# Deleting a specific item\n",
        "my_dict['name'] = 'Alice'\n",
        "my_dict['age'] = 30\n",
        "my_dict['city'] = 'New York'\n",
        "del my_dict['city']\n",
        "\n",
        "print(my_dict)\n",
        "\n",
        "\n",
        "# Deleting all items\n",
        "my_dict.clear()\n",
        "\n",
        "print(my_dict)\n",
        "\n"
      ],
      "metadata": {
        "colab": {
          "base_uri": "https://localhost:8080/"
        },
        "id": "BTSgF8Z_Lc10",
        "outputId": "98d42276-e6fd-4957-ff1c-4708d4383bb1"
      },
      "execution_count": 8,
      "outputs": [
        {
          "output_type": "stream",
          "name": "stdout",
          "text": [
            "{'name': 'Alice', 'age': 30, 'country': 'USA', 'occupation': 'Engineer'}\n",
            "{}\n"
          ]
        }
      ]
    }
  ]
}