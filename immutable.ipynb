{
  "nbformat": 4,
  "nbformat_minor": 0,
  "metadata": {
    "colab": {
      "provenance": []
    },
    "kernelspec": {
      "name": "python3",
      "display_name": "Python 3"
    },
    "language_info": {
      "name": "python"
    }
  },
  "cells": [
    {
      "cell_type": "code",
      "execution_count": 1,
      "metadata": {
        "colab": {
          "base_uri": "https://localhost:8080/"
        },
        "id": "uwbYYynRNO1y",
        "outputId": "9297c090-3861-4a78-8646-ee3f8a20b212"
      },
      "outputs": [
        {
          "output_type": "stream",
          "name": "stdout",
          "text": [
            "Alice\n"
          ]
        }
      ],
      "source": [
        "#string\n",
        "my_dict = {'name': 'Alice', 'age': 30}\n",
        "print(my_dict['name'])\n"
      ]
    },
    {
      "cell_type": "code",
      "source": [
        "#tuple\n",
        "my_dict = {('x', 1): 'hello', ('y', 2): 'world'}\n",
        "print(my_dict[('x', 1)])\n"
      ],
      "metadata": {
        "colab": {
          "base_uri": "https://localhost:8080/"
        },
        "id": "KuxWge9BNXwb",
        "outputId": "35c8960e-feb7-4ba9-835b-bf0d9c7a104a"
      },
      "execution_count": 3,
      "outputs": [
        {
          "output_type": "stream",
          "name": "stdout",
          "text": [
            "point1\n"
          ]
        }
      ]
    },
    {
      "cell_type": "code",
      "source": [
        "#int and float\n",
        "my_dict = {1: 'one', 2: 'two'}\n",
        "print(my_dict[1])\n"
      ],
      "metadata": {
        "colab": {
          "base_uri": "https://localhost:8080/"
        },
        "id": "bar8YR2dNdGb",
        "outputId": "223a9620-073a-4b13-f816-7081eb74c947"
      },
      "execution_count": 4,
      "outputs": [
        {
          "output_type": "stream",
          "name": "stdout",
          "text": [
            "one\n"
          ]
        }
      ]
    }
  ]
}